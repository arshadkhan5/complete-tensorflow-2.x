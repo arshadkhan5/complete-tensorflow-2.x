{
  "nbformat": 4,
  "nbformat_minor": 0,
  "metadata": {
    "colab": {
      "name": "ReCurrent_nueral_network.ipynb",
      "provenance": []
    },
    "kernelspec": {
      "name": "python3",
      "display_name": "Python 3"
    },
    "language_info": {
      "name": "python"
    },
    "accelerator": "GPU"
  },
  "cells": [
    {
      "cell_type": "markdown",
      "metadata": {
        "id": "OAlt6p1kW2tD"
      },
      "source": [
        "# <mark>***Installing the Dependency***<mark>"
      ]
    },
    {
      "cell_type": "code",
      "metadata": {
        "colab": {
          "base_uri": "https://localhost:8080/"
        },
        "id": "QTfRS7ylWYYo",
        "outputId": "230f191f-1bec-4a8b-ecdd-aca8806f682a"
      },
      "source": [
        "!pip install numpy==1.16.1\n"
      ],
      "execution_count": 35,
      "outputs": [
        {
          "output_type": "stream",
          "text": [
            "Requirement already satisfied: numpy==1.16.1 in /usr/local/lib/python3.7/dist-packages (1.16.1)\n"
          ],
          "name": "stdout"
        }
      ]
    },
    {
      "cell_type": "markdown",
      "metadata": {
        "id": "XrF3OANYXrjB"
      },
      "source": [
        "# <mark>***Importing the Libraries***<mark>"
      ]
    },
    {
      "cell_type": "code",
      "metadata": {
        "id": "J8vBPP6bXlwr"
      },
      "source": [
        "import numpy as np \n",
        "import tensorflow as tf \n",
        "\n",
        "#The dataset which is to be imported \n",
        "from tensorflow.keras.datasets import imdb"
      ],
      "execution_count": 36,
      "outputs": []
    },
    {
      "cell_type": "markdown",
      "metadata": {
        "id": "YUG7PAStYSqE"
      },
      "source": [
        "# <mark>***Setting up the parameters with will be using latter***<mark>"
      ]
    },
    {
      "cell_type": "markdown",
      "metadata": {
        "id": "FUL8hIKQYMNL"
      },
      "source": [
        "num_of_words=20000\n",
        "max_len=100\n"
      ]
    },
    {
      "cell_type": "code",
      "metadata": {
        "id": "4uOmFsvBVHV6"
      },
      "source": [
        "num_of_words=20000 \n",
        "max_len=100"
      ],
      "execution_count": 37,
      "outputs": []
    },
    {
      "cell_type": "code",
      "metadata": {
        "id": "BoS2MDIwVHQK"
      },
      "source": [
        ""
      ],
      "execution_count": 37,
      "outputs": []
    },
    {
      "cell_type": "markdown",
      "metadata": {
        "id": "1tIAKPcVYswR"
      },
      "source": [
        "# <mark>***Loading the Dataset and assigning in variables***<mark>"
      ]
    },
    {
      "cell_type": "code",
      "metadata": {
        "id": "AXPJKik-YoJy"
      },
      "source": [
        "(x_train , y_train),(x_test , y_test) = imdb.load_data(num_words=num_of_words)"
      ],
      "execution_count": 38,
      "outputs": []
    },
    {
      "cell_type": "markdown",
      "metadata": {
        "id": "8LBDYgpEcdEh"
      },
      "source": [
        "# <mark>***preproccesing the data***<mark>\n",
        "padding the same length to all sequencies \n",
        "\n",
        "\n"
      ]
    },
    {
      "cell_type": "code",
      "metadata": {
        "id": "4DG8ZDNGZUQb"
      },
      "source": [
        "x_train=tf.keras.preprocessing.sequence.pad_sequences(x_train ,maxlen=max_len)\n",
        "\n"
      ],
      "execution_count": 39,
      "outputs": []
    },
    {
      "cell_type": "code",
      "metadata": {
        "id": "cjo6hDIfdj87"
      },
      "source": [
        "x_test=tf.keras.preprocessing.sequence.pad_sequences(x_test , maxlen=max_len)"
      ],
      "execution_count": 40,
      "outputs": []
    },
    {
      "cell_type": "markdown",
      "metadata": {
        "id": "MBaZyFFuUkoq"
      },
      "source": [
        "# defining the vocabalory sixe "
      ]
    },
    {
      "cell_type": "code",
      "metadata": {
        "id": "09mglGq-Uuxj"
      },
      "source": [
        "vocab_size= num_of_words\n"
      ],
      "execution_count": 41,
      "outputs": []
    },
    {
      "cell_type": "markdown",
      "metadata": {
        "id": "c9KDtj0xVL7L"
      },
      "source": [
        "# its for output dimension\n"
      ]
    },
    {
      "cell_type": "code",
      "metadata": {
        "id": "pFfcAWm1VT9q"
      },
      "source": [
        "embed_size = 128"
      ],
      "execution_count": 42,
      "outputs": []
    },
    {
      "cell_type": "markdown",
      "metadata": {
        "id": "jsdECLX3VaB6"
      },
      "source": [
        "# ***Bulding a recurent nueral network***"
      ]
    },
    {
      "cell_type": "markdown",
      "metadata": {
        "id": "IwAS7C0ZViA6"
      },
      "source": [
        "# Defining the model "
      ]
    },
    {
      "cell_type": "code",
      "metadata": {
        "id": "_7HR4NQmVpcq"
      },
      "source": [
        "model = tf.keras.Sequential()"
      ],
      "execution_count": 43,
      "outputs": []
    },
    {
      "cell_type": "markdown",
      "metadata": {
        "id": "zY92ly3EVuv6"
      },
      "source": [
        "# **Adding the Embedding Layers**\n",
        "\n",
        "1.   List item\n",
        "the input shape will give the vector respesentation here \n",
        "it is 100 here \n",
        "\n"
      ]
    },
    {
      "cell_type": "code",
      "metadata": {
        "id": "ADjKI46NV-8y"
      },
      "source": [
        "#model.add(tf.keras.layers.Embedding(vocab_size,embed_size,input_shape=(x_train.shape[1],)))\n",
        "model.add(tf.keras.layers.Embedding(vocab_size, embed_size, input_shape=(x_train.shape[1],)))\n"
      ],
      "execution_count": 44,
      "outputs": []
    },
    {
      "cell_type": "code",
      "metadata": {
        "colab": {
          "base_uri": "https://localhost:8080/"
        },
        "id": "l5Byu_0obUuY",
        "outputId": "7b438882-c299-4198-8e63-d32e76fc4512"
      },
      "source": [
        "x_train.shape"
      ],
      "execution_count": 45,
      "outputs": [
        {
          "output_type": "execute_result",
          "data": {
            "text/plain": [
              "(25000, 100)"
            ]
          },
          "metadata": {
            "tags": []
          },
          "execution_count": 45
        }
      ]
    },
    {
      "cell_type": "markdown",
      "metadata": {
        "id": "qH6c378JW_aU"
      },
      "source": [
        "# **Adding LSTM layer**\n",
        "\n",
        "\n",
        "1.  the unit shows the number of nuerons \n",
        "2.  activation fuction is used tan h\n",
        "\n",
        "\n",
        "\n"
      ]
    },
    {
      "cell_type": "code",
      "metadata": {
        "colab": {
          "base_uri": "https://localhost:8080/"
        },
        "id": "d5ufME2IYNya",
        "outputId": "198b8ee5-7478-4533-931d-278e07d50ac1"
      },
      "source": [
        "model.add(tf.keras.layers.LSTM(units=128, dropout=0.2,recurrent_dropout=0.2,activation='tanh'))"
      ],
      "execution_count": 46,
      "outputs": [
        {
          "output_type": "stream",
          "text": [
            "WARNING:tensorflow:Layer lstm_3 will not use cuDNN kernel since it doesn't meet the cuDNN kernel criteria. It will use generic GPU kernel as fallback when running on GPU\n"
          ],
          "name": "stdout"
        }
      ]
    },
    {
      "cell_type": "markdown",
      "metadata": {
        "id": "v_TVF6hkXauy"
      },
      "source": [
        "# **Adding dense  layer**\n"
      ]
    },
    {
      "cell_type": "code",
      "metadata": {
        "id": "-PSUyLwxcuM7"
      },
      "source": [
        "#model.add(tf.keras.layers.Dense(units=100 ,kernel_initializer='he_uniform',activation='relu'))\n",
        "#model.add(tf.keras.layers.Dense(units=200 ,kernel_initializer='he_uniform',activation='relu'))\n",
        "#model.add(tf.keras.layers.Dense(units=50 ,kernel_initializer='he_uniform',activation='relu'))\n",
        "model.add(tf.keras.layers.Dense(units=1 ,activation='sigmoid'))\n",
        "\n"
      ],
      "execution_count": 47,
      "outputs": []
    },
    {
      "cell_type": "markdown",
      "metadata": {
        "id": "QEH6a5eec--J"
      },
      "source": [
        "# compiling the model"
      ]
    },
    {
      "cell_type": "code",
      "metadata": {
        "id": "6Cua7qppX87a"
      },
      "source": [
        "model.compile(optimizer='adam', loss='binary_crossentropy',metrics=['accuracy'])"
      ],
      "execution_count": 48,
      "outputs": []
    },
    {
      "cell_type": "code",
      "metadata": {
        "colab": {
          "base_uri": "https://localhost:8080/"
        },
        "id": "c9TH3xiEcq5a",
        "outputId": "b219fc4a-2872-4272-caf7-574eadf7f1c0"
      },
      "source": [
        "model.summary()"
      ],
      "execution_count": 49,
      "outputs": [
        {
          "output_type": "stream",
          "text": [
            "Model: \"sequential_2\"\n",
            "_________________________________________________________________\n",
            "Layer (type)                 Output Shape              Param #   \n",
            "=================================================================\n",
            "embedding_2 (Embedding)      (None, 100, 128)          2560000   \n",
            "_________________________________________________________________\n",
            "lstm_3 (LSTM)                (None, 128)               131584    \n",
            "_________________________________________________________________\n",
            "dense_5 (Dense)              (None, 1)                 129       \n",
            "=================================================================\n",
            "Total params: 2,691,713\n",
            "Trainable params: 2,691,713\n",
            "Non-trainable params: 0\n",
            "_________________________________________________________________\n"
          ],
          "name": "stdout"
        }
      ]
    },
    {
      "cell_type": "markdown",
      "metadata": {
        "id": "hKzyGQJfdGSz"
      },
      "source": [
        "# fitting the model "
      ]
    },
    {
      "cell_type": "code",
      "metadata": {
        "colab": {
          "base_uri": "https://localhost:8080/"
        },
        "id": "adOmCdWFdNuB",
        "outputId": "a00f38e5-90b3-4c90-8823-88b1a084c5c1"
      },
      "source": [
        "model.fit(x_train ,y_train, epochs=10, batch_size=128 ,validation_split=0.2)"
      ],
      "execution_count": 50,
      "outputs": [
        {
          "output_type": "stream",
          "text": [
            "Epoch 1/10\n",
            "157/157 [==============================] - 67s 412ms/step - loss: 0.5595 - accuracy: 0.6835 - val_loss: 0.3330 - val_accuracy: 0.8542\n",
            "Epoch 2/10\n",
            "157/157 [==============================] - 66s 418ms/step - loss: 0.2327 - accuracy: 0.9117 - val_loss: 0.3616 - val_accuracy: 0.8458\n",
            "Epoch 3/10\n",
            "157/157 [==============================] - 65s 412ms/step - loss: 0.1574 - accuracy: 0.9457 - val_loss: 0.4335 - val_accuracy: 0.8308\n",
            "Epoch 4/10\n",
            "157/157 [==============================] - 66s 420ms/step - loss: 0.1036 - accuracy: 0.9631 - val_loss: 0.4920 - val_accuracy: 0.8366\n",
            "Epoch 5/10\n",
            "157/157 [==============================] - 64s 409ms/step - loss: 0.0721 - accuracy: 0.9758 - val_loss: 0.5979 - val_accuracy: 0.8338\n",
            "Epoch 6/10\n",
            "157/157 [==============================] - 65s 414ms/step - loss: 0.0601 - accuracy: 0.9784 - val_loss: 0.5971 - val_accuracy: 0.8344\n",
            "Epoch 7/10\n",
            "157/157 [==============================] - 65s 416ms/step - loss: 0.0335 - accuracy: 0.9897 - val_loss: 0.7422 - val_accuracy: 0.8272\n",
            "Epoch 8/10\n",
            "157/157 [==============================] - 64s 411ms/step - loss: 0.0348 - accuracy: 0.9904 - val_loss: 0.7745 - val_accuracy: 0.8266\n",
            "Epoch 9/10\n",
            "157/157 [==============================] - 65s 417ms/step - loss: 0.0297 - accuracy: 0.9897 - val_loss: 0.8929 - val_accuracy: 0.8248\n",
            "Epoch 10/10\n",
            "157/157 [==============================] - 64s 407ms/step - loss: 0.0378 - accuracy: 0.9871 - val_loss: 0.7216 - val_accuracy: 0.8256\n"
          ],
          "name": "stdout"
        },
        {
          "output_type": "execute_result",
          "data": {
            "text/plain": [
              "<tensorflow.python.keras.callbacks.History at 0x7f65aa73cb50>"
            ]
          },
          "metadata": {
            "tags": []
          },
          "execution_count": 50
        }
      ]
    },
    {
      "cell_type": "code",
      "metadata": {
        "colab": {
          "base_uri": "https://localhost:8080/"
        },
        "id": "mSgtS5V2dy6Q",
        "outputId": "4f74c79d-773a-4469-810a-c89707b9a7e6"
      },
      "source": [
        "test_loss , test_acurracy = model.evaluate(x_test ,y_test)"
      ],
      "execution_count": 51,
      "outputs": [
        {
          "output_type": "stream",
          "text": [
            "782/782 [==============================] - 20s 25ms/step - loss: 0.7607 - accuracy: 0.8145\n"
          ],
          "name": "stdout"
        }
      ]
    },
    {
      "cell_type": "code",
      "metadata": {
        "id": "bZqZDMHheAqR"
      },
      "source": [
        ""
      ],
      "execution_count": 51,
      "outputs": []
    }
  ]
}