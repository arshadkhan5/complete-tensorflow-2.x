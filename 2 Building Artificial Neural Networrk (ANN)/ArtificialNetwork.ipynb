{
  "nbformat": 4,
  "nbformat_minor": 0,
  "metadata": {
    "colab": {
      "name": "ArtificialNetwork.ipynb",
      "provenance": []
    },
    "kernelspec": {
      "name": "python3",
      "display_name": "Python 3"
    },
    "accelerator": "GPU"
  },
  "cells": [
    {
      "cell_type": "code",
      "metadata": {
        "id": "ZnC8QOebmq7F"
      },
      "source": [
        "%tensorflow_version 2.x\r\n"
      ],
      "execution_count": 102,
      "outputs": []
    },
    {
      "cell_type": "markdown",
      "metadata": {
        "id": "JXY5kj6PVV_n"
      },
      "source": [
        "## ***Downloading the defeciencies***"
      ]
    },
    {
      "cell_type": "code",
      "metadata": {
        "id": "KIKkD4stm9g4"
      },
      "source": [
        "import tensorflow as tf\r\n",
        "import numpy as np\r\n",
        "import datetime\r\n",
        "from tensorflow.keras.datasets import fashion_mnist \r\n"
      ],
      "execution_count": 103,
      "outputs": []
    },
    {
      "cell_type": "markdown",
      "metadata": {
        "id": "HsLmRtIuVp9H"
      },
      "source": [
        "# downloading dataset "
      ]
    },
    {
      "cell_type": "code",
      "metadata": {
        "id": "LeguW2groAxI"
      },
      "source": [
        "\r\n",
        "(x_train ,y_train), (x_test,y_test)=fashion_mnist.load_data()"
      ],
      "execution_count": 104,
      "outputs": []
    },
    {
      "cell_type": "markdown",
      "metadata": {
        "id": "Ix9EiYUXWXTW"
      },
      "source": [
        "\r\n",
        "\r\n",
        "## **Normalization** the data \r\n",
        "\r\n"
      ]
    },
    {
      "cell_type": "code",
      "metadata": {
        "id": "eRhBUayWVw19"
      },
      "source": [
        ""
      ],
      "execution_count": 104,
      "outputs": []
    },
    {
      "cell_type": "code",
      "metadata": {
        "id": "S-w6f1qdpShf"
      },
      "source": [
        "\r\n",
        "x_train = x_train/255.0\r\n",
        "x_test =x_test/255.0"
      ],
      "execution_count": 105,
      "outputs": []
    },
    {
      "cell_type": "code",
      "metadata": {
        "id": "h-9Ip1H1px_-"
      },
      "source": [
        "\r\n",
        "x_train = x_train.reshape(-1,28*28)\r\n"
      ],
      "execution_count": 106,
      "outputs": []
    },
    {
      "cell_type": "markdown",
      "metadata": {
        "id": "ikLbqabuWoM-"
      },
      "source": [
        "## **Reshaping** the dataset"
      ]
    },
    {
      "cell_type": "code",
      "metadata": {
        "colab": {
          "base_uri": "https://localhost:8080/"
        },
        "id": "EOChM8QbqX-u",
        "outputId": "5dac95d2-6d03-47ed-81bc-62d8d3197f0e"
      },
      "source": [
        "x_train.shape"
      ],
      "execution_count": 107,
      "outputs": [
        {
          "output_type": "execute_result",
          "data": {
            "text/plain": [
              "(60000, 784)"
            ]
          },
          "metadata": {
            "tags": []
          },
          "execution_count": 107
        }
      ]
    },
    {
      "cell_type": "code",
      "metadata": {
        "id": "0U0eyxvMqhqW",
        "colab": {
          "base_uri": "https://localhost:8080/"
        },
        "outputId": "6f353613-c861-4668-8c78-4ebbb5dd1305"
      },
      "source": [
        "x_test=x_test.reshape(-1,28*28)\r\n",
        "x_test.shape"
      ],
      "execution_count": 108,
      "outputs": [
        {
          "output_type": "execute_result",
          "data": {
            "text/plain": [
              "(10000, 784)"
            ]
          },
          "metadata": {
            "tags": []
          },
          "execution_count": 108
        }
      ]
    },
    {
      "cell_type": "markdown",
      "metadata": {
        "id": "JLR0wgJgVBdm"
      },
      "source": [
        "# ***Biulding the neural network***\r\n",
        "\r\n",
        "---\r\n",
        "\r\n"
      ]
    },
    {
      "cell_type": "code",
      "metadata": {
        "id": "irxtzihPPSwx"
      },
      "source": [
        "model=tf.keras.models.Sequential()"
      ],
      "execution_count": 109,
      "outputs": []
    },
    {
      "cell_type": "markdown",
      "metadata": {
        "id": "cdc0y9o2XIZW"
      },
      "source": [
        "**Adding** the hidden Layer \r\n",
        "\r\n",
        "---\r\n",
        "\r\n",
        "---\r\n",
        "\r\n",
        "\r\n",
        "\r\n",
        "\r\n",
        "\r\n",
        "\r\n",
        "\r\n",
        "\r\n"
      ]
    },
    {
      "cell_type": "code",
      "metadata": {
        "id": "fYhiwTGWU8Ou"
      },
      "source": [
        "model.add(tf.keras.layers.Dense(units=128 , activation='relu' ,input_shape=(784,)))"
      ],
      "execution_count": 110,
      "outputs": []
    },
    {
      "cell_type": "code",
      "metadata": {
        "id": "J1BcGZPQYLVY"
      },
      "source": [
        "#model.add(tf.keras.layers.Dense(units=64 , activation='relu'))\r\n"
      ],
      "execution_count": 111,
      "outputs": []
    },
    {
      "cell_type": "markdown",
      "metadata": {
        "id": "uZR3pd6nYmAe"
      },
      "source": [
        " **Adding DroupOut**"
      ]
    },
    {
      "cell_type": "code",
      "metadata": {
        "id": "6m05wZqnYkC2"
      },
      "source": [
        "model.add(tf.keras.layers.Dropout(0.2))\r\n"
      ],
      "execution_count": 112,
      "outputs": []
    },
    {
      "cell_type": "markdown",
      "metadata": {
        "id": "1iP00UZiZHYm"
      },
      "source": [
        "**Adding the Output Layer**\r\n",
        "\r\n",
        "---\r\n",
        "\r\n",
        "---\r\n",
        "\r\n",
        "\r\n",
        "\r\n"
      ]
    },
    {
      "cell_type": "code",
      "metadata": {
        "id": "I_NIRyg4ZEUP"
      },
      "source": [
        "model.add(tf.keras.layers.Dense(units=10 ,activation='softmax'))"
      ],
      "execution_count": 113,
      "outputs": []
    },
    {
      "cell_type": "markdown",
      "metadata": {
        "id": "t04o99qGb6Du"
      },
      "source": [
        "# ***Model compilation***"
      ]
    },
    {
      "cell_type": "code",
      "metadata": {
        "id": "iDqV0aDmZhUf"
      },
      "source": [
        "model.compile(optimizer='adam',loss='sparse_categorical_crossentropy' ,metrics=['sparse_categorical_accuracy'])"
      ],
      "execution_count": 114,
      "outputs": []
    },
    {
      "cell_type": "markdown",
      "metadata": {
        "id": "VwDjtGdYffNH"
      },
      "source": [
        "# ***Model summary***"
      ]
    },
    {
      "cell_type": "code",
      "metadata": {
        "colab": {
          "base_uri": "https://localhost:8080/"
        },
        "id": "sRQXACBafbHv",
        "outputId": "8a83ef5e-e1d2-4c10-e35d-2ab88b5fedb3"
      },
      "source": [
        "model.summary()"
      ],
      "execution_count": 115,
      "outputs": [
        {
          "output_type": "stream",
          "text": [
            "Model: \"sequential_4\"\n",
            "_________________________________________________________________\n",
            "Layer (type)                 Output Shape              Param #   \n",
            "=================================================================\n",
            "dense_20 (Dense)             (None, 128)               100480    \n",
            "_________________________________________________________________\n",
            "dropout_7 (Dropout)          (None, 128)               0         \n",
            "_________________________________________________________________\n",
            "dense_21 (Dense)             (None, 10)                1290      \n",
            "=================================================================\n",
            "Total params: 101,770\n",
            "Trainable params: 101,770\n",
            "Non-trainable params: 0\n",
            "_________________________________________________________________\n"
          ],
          "name": "stdout"
        }
      ]
    },
    {
      "cell_type": "code",
      "metadata": {
        "colab": {
          "base_uri": "https://localhost:8080/"
        },
        "id": "Bn-j3X8Zfy4V",
        "outputId": "be0a6996-31ac-427a-f459-088772d96206"
      },
      "source": [
        "model.fit(x_train , y_train , epochs=200)"
      ],
      "execution_count": 116,
      "outputs": [
        {
          "output_type": "stream",
          "text": [
            "Epoch 1/200\n",
            "1875/1875 [==============================] - 4s 2ms/step - loss: 0.6767 - sparse_categorical_accuracy: 0.7642\n",
            "Epoch 2/200\n",
            "1875/1875 [==============================] - 4s 2ms/step - loss: 0.4071 - sparse_categorical_accuracy: 0.8510\n",
            "Epoch 3/200\n",
            "1875/1875 [==============================] - 3s 2ms/step - loss: 0.3626 - sparse_categorical_accuracy: 0.8680\n",
            "Epoch 4/200\n",
            "1875/1875 [==============================] - 4s 2ms/step - loss: 0.3433 - sparse_categorical_accuracy: 0.8737\n",
            "Epoch 5/200\n",
            "1875/1875 [==============================] - 3s 2ms/step - loss: 0.3242 - sparse_categorical_accuracy: 0.8805\n",
            "Epoch 6/200\n",
            "1875/1875 [==============================] - 4s 2ms/step - loss: 0.3099 - sparse_categorical_accuracy: 0.8852\n",
            "Epoch 7/200\n",
            "1875/1875 [==============================] - 4s 2ms/step - loss: 0.3004 - sparse_categorical_accuracy: 0.8881\n",
            "Epoch 8/200\n",
            "1875/1875 [==============================] - 4s 2ms/step - loss: 0.2947 - sparse_categorical_accuracy: 0.8893\n",
            "Epoch 9/200\n",
            "1875/1875 [==============================] - 4s 2ms/step - loss: 0.2848 - sparse_categorical_accuracy: 0.8930\n",
            "Epoch 10/200\n",
            "1875/1875 [==============================] - 4s 2ms/step - loss: 0.2804 - sparse_categorical_accuracy: 0.8974\n",
            "Epoch 11/200\n",
            "1875/1875 [==============================] - 4s 2ms/step - loss: 0.2726 - sparse_categorical_accuracy: 0.8976\n",
            "Epoch 12/200\n",
            "1875/1875 [==============================] - 4s 2ms/step - loss: 0.2633 - sparse_categorical_accuracy: 0.9018\n",
            "Epoch 13/200\n",
            "1875/1875 [==============================] - 4s 2ms/step - loss: 0.2641 - sparse_categorical_accuracy: 0.9015\n",
            "Epoch 14/200\n",
            "1875/1875 [==============================] - 4s 2ms/step - loss: 0.2514 - sparse_categorical_accuracy: 0.9055\n",
            "Epoch 15/200\n",
            "1875/1875 [==============================] - 4s 2ms/step - loss: 0.2505 - sparse_categorical_accuracy: 0.9067\n",
            "Epoch 16/200\n",
            "1875/1875 [==============================] - 4s 2ms/step - loss: 0.2482 - sparse_categorical_accuracy: 0.9059\n",
            "Epoch 17/200\n",
            "1875/1875 [==============================] - 4s 2ms/step - loss: 0.2402 - sparse_categorical_accuracy: 0.9095\n",
            "Epoch 18/200\n",
            "1875/1875 [==============================] - 4s 2ms/step - loss: 0.2320 - sparse_categorical_accuracy: 0.9131\n",
            "Epoch 19/200\n",
            "1875/1875 [==============================] - 4s 2ms/step - loss: 0.2380 - sparse_categorical_accuracy: 0.9111\n",
            "Epoch 20/200\n",
            "1875/1875 [==============================] - 4s 2ms/step - loss: 0.2242 - sparse_categorical_accuracy: 0.9145\n",
            "Epoch 21/200\n",
            "1875/1875 [==============================] - 4s 2ms/step - loss: 0.2267 - sparse_categorical_accuracy: 0.9135\n",
            "Epoch 22/200\n",
            "1875/1875 [==============================] - 4s 2ms/step - loss: 0.2187 - sparse_categorical_accuracy: 0.9164\n",
            "Epoch 23/200\n",
            "1875/1875 [==============================] - 4s 2ms/step - loss: 0.2176 - sparse_categorical_accuracy: 0.9168\n",
            "Epoch 24/200\n",
            "1875/1875 [==============================] - 4s 2ms/step - loss: 0.2166 - sparse_categorical_accuracy: 0.9186\n",
            "Epoch 25/200\n",
            "1875/1875 [==============================] - 4s 2ms/step - loss: 0.2142 - sparse_categorical_accuracy: 0.9206\n",
            "Epoch 26/200\n",
            "1875/1875 [==============================] - 4s 2ms/step - loss: 0.2077 - sparse_categorical_accuracy: 0.9202\n",
            "Epoch 27/200\n",
            "1875/1875 [==============================] - 4s 2ms/step - loss: 0.2107 - sparse_categorical_accuracy: 0.9209\n",
            "Epoch 28/200\n",
            "1875/1875 [==============================] - 4s 2ms/step - loss: 0.2060 - sparse_categorical_accuracy: 0.9207\n",
            "Epoch 29/200\n",
            "1875/1875 [==============================] - 4s 2ms/step - loss: 0.2100 - sparse_categorical_accuracy: 0.9197\n",
            "Epoch 30/200\n",
            "1875/1875 [==============================] - 4s 2ms/step - loss: 0.2046 - sparse_categorical_accuracy: 0.9234\n",
            "Epoch 31/200\n",
            "1875/1875 [==============================] - 4s 2ms/step - loss: 0.1989 - sparse_categorical_accuracy: 0.9238\n",
            "Epoch 32/200\n",
            "1875/1875 [==============================] - 4s 2ms/step - loss: 0.1938 - sparse_categorical_accuracy: 0.9259\n",
            "Epoch 33/200\n",
            "1875/1875 [==============================] - 4s 2ms/step - loss: 0.1957 - sparse_categorical_accuracy: 0.9255\n",
            "Epoch 34/200\n",
            "1875/1875 [==============================] - 4s 2ms/step - loss: 0.1917 - sparse_categorical_accuracy: 0.9258\n",
            "Epoch 35/200\n",
            "1875/1875 [==============================] - 4s 2ms/step - loss: 0.1922 - sparse_categorical_accuracy: 0.9266\n",
            "Epoch 36/200\n",
            "1875/1875 [==============================] - 4s 2ms/step - loss: 0.1917 - sparse_categorical_accuracy: 0.9265\n",
            "Epoch 37/200\n",
            "1875/1875 [==============================] - 4s 2ms/step - loss: 0.1879 - sparse_categorical_accuracy: 0.9285\n",
            "Epoch 38/200\n",
            "1875/1875 [==============================] - 4s 2ms/step - loss: 0.1831 - sparse_categorical_accuracy: 0.9295\n",
            "Epoch 39/200\n",
            "1875/1875 [==============================] - 4s 2ms/step - loss: 0.1815 - sparse_categorical_accuracy: 0.9320\n",
            "Epoch 40/200\n",
            "1875/1875 [==============================] - 4s 2ms/step - loss: 0.1884 - sparse_categorical_accuracy: 0.9275\n",
            "Epoch 41/200\n",
            "1875/1875 [==============================] - 4s 2ms/step - loss: 0.1804 - sparse_categorical_accuracy: 0.9312\n",
            "Epoch 42/200\n",
            "1875/1875 [==============================] - 4s 2ms/step - loss: 0.1725 - sparse_categorical_accuracy: 0.9344\n",
            "Epoch 43/200\n",
            "1875/1875 [==============================] - 4s 2ms/step - loss: 0.1727 - sparse_categorical_accuracy: 0.9327\n",
            "Epoch 44/200\n",
            "1875/1875 [==============================] - 4s 2ms/step - loss: 0.1735 - sparse_categorical_accuracy: 0.9335\n",
            "Epoch 45/200\n",
            "1875/1875 [==============================] - 4s 2ms/step - loss: 0.1745 - sparse_categorical_accuracy: 0.9341\n",
            "Epoch 46/200\n",
            "1875/1875 [==============================] - 4s 2ms/step - loss: 0.1733 - sparse_categorical_accuracy: 0.9342\n",
            "Epoch 47/200\n",
            "1875/1875 [==============================] - 4s 2ms/step - loss: 0.1704 - sparse_categorical_accuracy: 0.9343\n",
            "Epoch 48/200\n",
            "1875/1875 [==============================] - 4s 2ms/step - loss: 0.1706 - sparse_categorical_accuracy: 0.9337\n",
            "Epoch 49/200\n",
            "1875/1875 [==============================] - 4s 2ms/step - loss: 0.1678 - sparse_categorical_accuracy: 0.9340\n",
            "Epoch 50/200\n",
            "1875/1875 [==============================] - 4s 2ms/step - loss: 0.1636 - sparse_categorical_accuracy: 0.9370\n",
            "Epoch 51/200\n",
            "1875/1875 [==============================] - 4s 2ms/step - loss: 0.1642 - sparse_categorical_accuracy: 0.9359\n",
            "Epoch 52/200\n",
            "1875/1875 [==============================] - 4s 2ms/step - loss: 0.1637 - sparse_categorical_accuracy: 0.9354\n",
            "Epoch 53/200\n",
            "1875/1875 [==============================] - 4s 2ms/step - loss: 0.1575 - sparse_categorical_accuracy: 0.9399\n",
            "Epoch 54/200\n",
            "1875/1875 [==============================] - 4s 2ms/step - loss: 0.1645 - sparse_categorical_accuracy: 0.9374\n",
            "Epoch 55/200\n",
            "1875/1875 [==============================] - 4s 2ms/step - loss: 0.1610 - sparse_categorical_accuracy: 0.9373\n",
            "Epoch 56/200\n",
            "1875/1875 [==============================] - 4s 2ms/step - loss: 0.1547 - sparse_categorical_accuracy: 0.9402\n",
            "Epoch 57/200\n",
            "1875/1875 [==============================] - 4s 2ms/step - loss: 0.1588 - sparse_categorical_accuracy: 0.9394\n",
            "Epoch 58/200\n",
            "1875/1875 [==============================] - 4s 2ms/step - loss: 0.1616 - sparse_categorical_accuracy: 0.9377\n",
            "Epoch 59/200\n",
            "1875/1875 [==============================] - 4s 2ms/step - loss: 0.1579 - sparse_categorical_accuracy: 0.9397\n",
            "Epoch 60/200\n",
            "1875/1875 [==============================] - 4s 2ms/step - loss: 0.1545 - sparse_categorical_accuracy: 0.9403\n",
            "Epoch 61/200\n",
            "1875/1875 [==============================] - 4s 2ms/step - loss: 0.1569 - sparse_categorical_accuracy: 0.9405\n",
            "Epoch 62/200\n",
            "1875/1875 [==============================] - 4s 2ms/step - loss: 0.1511 - sparse_categorical_accuracy: 0.9402\n",
            "Epoch 63/200\n",
            "1875/1875 [==============================] - 4s 2ms/step - loss: 0.1549 - sparse_categorical_accuracy: 0.9390\n",
            "Epoch 64/200\n",
            "1875/1875 [==============================] - 4s 2ms/step - loss: 0.1509 - sparse_categorical_accuracy: 0.9419\n",
            "Epoch 65/200\n",
            "1875/1875 [==============================] - 4s 2ms/step - loss: 0.1490 - sparse_categorical_accuracy: 0.9420\n",
            "Epoch 66/200\n",
            "1875/1875 [==============================] - 4s 2ms/step - loss: 0.1443 - sparse_categorical_accuracy: 0.9444\n",
            "Epoch 67/200\n",
            "1875/1875 [==============================] - 4s 2ms/step - loss: 0.1474 - sparse_categorical_accuracy: 0.9433\n",
            "Epoch 68/200\n",
            "1875/1875 [==============================] - 4s 2ms/step - loss: 0.1428 - sparse_categorical_accuracy: 0.9448\n",
            "Epoch 69/200\n",
            "1875/1875 [==============================] - 4s 2ms/step - loss: 0.1439 - sparse_categorical_accuracy: 0.9431\n",
            "Epoch 70/200\n",
            "1875/1875 [==============================] - 4s 2ms/step - loss: 0.1444 - sparse_categorical_accuracy: 0.9440\n",
            "Epoch 71/200\n",
            "1875/1875 [==============================] - 4s 2ms/step - loss: 0.1452 - sparse_categorical_accuracy: 0.9442\n",
            "Epoch 72/200\n",
            "1875/1875 [==============================] - 4s 2ms/step - loss: 0.1469 - sparse_categorical_accuracy: 0.9440\n",
            "Epoch 73/200\n",
            "1875/1875 [==============================] - 4s 2ms/step - loss: 0.1429 - sparse_categorical_accuracy: 0.9445\n",
            "Epoch 74/200\n",
            "1875/1875 [==============================] - 4s 2ms/step - loss: 0.1404 - sparse_categorical_accuracy: 0.9459\n",
            "Epoch 75/200\n",
            "1875/1875 [==============================] - 4s 2ms/step - loss: 0.1405 - sparse_categorical_accuracy: 0.9456\n",
            "Epoch 76/200\n",
            "1875/1875 [==============================] - 4s 2ms/step - loss: 0.1404 - sparse_categorical_accuracy: 0.9457\n",
            "Epoch 77/200\n",
            "1875/1875 [==============================] - 4s 2ms/step - loss: 0.1376 - sparse_categorical_accuracy: 0.9468\n",
            "Epoch 78/200\n",
            "1875/1875 [==============================] - 4s 2ms/step - loss: 0.1372 - sparse_categorical_accuracy: 0.9469\n",
            "Epoch 79/200\n",
            "1875/1875 [==============================] - 4s 2ms/step - loss: 0.1404 - sparse_categorical_accuracy: 0.9475\n",
            "Epoch 80/200\n",
            "1875/1875 [==============================] - 4s 2ms/step - loss: 0.1354 - sparse_categorical_accuracy: 0.9478\n",
            "Epoch 81/200\n",
            "1875/1875 [==============================] - 4s 2ms/step - loss: 0.1380 - sparse_categorical_accuracy: 0.9462\n",
            "Epoch 82/200\n",
            "1875/1875 [==============================] - 4s 2ms/step - loss: 0.1346 - sparse_categorical_accuracy: 0.9490\n",
            "Epoch 83/200\n",
            "1875/1875 [==============================] - 4s 2ms/step - loss: 0.1337 - sparse_categorical_accuracy: 0.9475\n",
            "Epoch 84/200\n",
            "1875/1875 [==============================] - 4s 2ms/step - loss: 0.1343 - sparse_categorical_accuracy: 0.9466\n",
            "Epoch 85/200\n",
            "1875/1875 [==============================] - 4s 2ms/step - loss: 0.1330 - sparse_categorical_accuracy: 0.9492\n",
            "Epoch 86/200\n",
            "1875/1875 [==============================] - 4s 2ms/step - loss: 0.1305 - sparse_categorical_accuracy: 0.9489\n",
            "Epoch 87/200\n",
            "1875/1875 [==============================] - 4s 2ms/step - loss: 0.1262 - sparse_categorical_accuracy: 0.9495\n",
            "Epoch 88/200\n",
            "1875/1875 [==============================] - 4s 2ms/step - loss: 0.1331 - sparse_categorical_accuracy: 0.9487\n",
            "Epoch 89/200\n",
            "1875/1875 [==============================] - 4s 2ms/step - loss: 0.1300 - sparse_categorical_accuracy: 0.9495\n",
            "Epoch 90/200\n",
            "1875/1875 [==============================] - 4s 2ms/step - loss: 0.1301 - sparse_categorical_accuracy: 0.9509\n",
            "Epoch 91/200\n",
            "1875/1875 [==============================] - 4s 2ms/step - loss: 0.1290 - sparse_categorical_accuracy: 0.9510\n",
            "Epoch 92/200\n",
            "1875/1875 [==============================] - 4s 2ms/step - loss: 0.1290 - sparse_categorical_accuracy: 0.9491\n",
            "Epoch 93/200\n",
            "1875/1875 [==============================] - 4s 2ms/step - loss: 0.1354 - sparse_categorical_accuracy: 0.9479\n",
            "Epoch 94/200\n",
            "1875/1875 [==============================] - 4s 2ms/step - loss: 0.1238 - sparse_categorical_accuracy: 0.9519\n",
            "Epoch 95/200\n",
            "1875/1875 [==============================] - 4s 2ms/step - loss: 0.1282 - sparse_categorical_accuracy: 0.9513\n",
            "Epoch 96/200\n",
            "1875/1875 [==============================] - 4s 2ms/step - loss: 0.1245 - sparse_categorical_accuracy: 0.9506\n",
            "Epoch 97/200\n",
            "1875/1875 [==============================] - 4s 2ms/step - loss: 0.1250 - sparse_categorical_accuracy: 0.9508\n",
            "Epoch 98/200\n",
            "1875/1875 [==============================] - 4s 2ms/step - loss: 0.1244 - sparse_categorical_accuracy: 0.9523\n",
            "Epoch 99/200\n",
            "1875/1875 [==============================] - 4s 2ms/step - loss: 0.1229 - sparse_categorical_accuracy: 0.9521\n",
            "Epoch 100/200\n",
            "1875/1875 [==============================] - 4s 2ms/step - loss: 0.1247 - sparse_categorical_accuracy: 0.9510\n",
            "Epoch 101/200\n",
            "1875/1875 [==============================] - 4s 2ms/step - loss: 0.1281 - sparse_categorical_accuracy: 0.9507\n",
            "Epoch 102/200\n",
            "1875/1875 [==============================] - 4s 2ms/step - loss: 0.1219 - sparse_categorical_accuracy: 0.9530\n",
            "Epoch 103/200\n",
            "1875/1875 [==============================] - 4s 2ms/step - loss: 0.1197 - sparse_categorical_accuracy: 0.9536\n",
            "Epoch 104/200\n",
            "1875/1875 [==============================] - 4s 2ms/step - loss: 0.1215 - sparse_categorical_accuracy: 0.9536\n",
            "Epoch 105/200\n",
            "1875/1875 [==============================] - 4s 2ms/step - loss: 0.1215 - sparse_categorical_accuracy: 0.9538\n",
            "Epoch 106/200\n",
            "1875/1875 [==============================] - 4s 2ms/step - loss: 0.1238 - sparse_categorical_accuracy: 0.9519\n",
            "Epoch 107/200\n",
            "1875/1875 [==============================] - 4s 2ms/step - loss: 0.1222 - sparse_categorical_accuracy: 0.9526\n",
            "Epoch 108/200\n",
            "1875/1875 [==============================] - 4s 2ms/step - loss: 0.1206 - sparse_categorical_accuracy: 0.9546\n",
            "Epoch 109/200\n",
            "1875/1875 [==============================] - 4s 2ms/step - loss: 0.1209 - sparse_categorical_accuracy: 0.9532\n",
            "Epoch 110/200\n",
            "1875/1875 [==============================] - 4s 2ms/step - loss: 0.1252 - sparse_categorical_accuracy: 0.9515\n",
            "Epoch 111/200\n",
            "1875/1875 [==============================] - 4s 2ms/step - loss: 0.1171 - sparse_categorical_accuracy: 0.9551\n",
            "Epoch 112/200\n",
            "1875/1875 [==============================] - 4s 2ms/step - loss: 0.1146 - sparse_categorical_accuracy: 0.9549\n",
            "Epoch 113/200\n",
            "1875/1875 [==============================] - 4s 2ms/step - loss: 0.1147 - sparse_categorical_accuracy: 0.9553\n",
            "Epoch 114/200\n",
            "1875/1875 [==============================] - 4s 2ms/step - loss: 0.1173 - sparse_categorical_accuracy: 0.9550\n",
            "Epoch 115/200\n",
            "1875/1875 [==============================] - 4s 2ms/step - loss: 0.1148 - sparse_categorical_accuracy: 0.9559\n",
            "Epoch 116/200\n",
            "1875/1875 [==============================] - 4s 2ms/step - loss: 0.1145 - sparse_categorical_accuracy: 0.9557\n",
            "Epoch 117/200\n",
            "1875/1875 [==============================] - 4s 2ms/step - loss: 0.1149 - sparse_categorical_accuracy: 0.9548\n",
            "Epoch 118/200\n",
            "1875/1875 [==============================] - 4s 2ms/step - loss: 0.1167 - sparse_categorical_accuracy: 0.9555\n",
            "Epoch 119/200\n",
            "1875/1875 [==============================] - 4s 2ms/step - loss: 0.1146 - sparse_categorical_accuracy: 0.9551\n",
            "Epoch 120/200\n",
            "1875/1875 [==============================] - 4s 2ms/step - loss: 0.1154 - sparse_categorical_accuracy: 0.9554\n",
            "Epoch 121/200\n",
            "1875/1875 [==============================] - 4s 2ms/step - loss: 0.1144 - sparse_categorical_accuracy: 0.9556\n",
            "Epoch 122/200\n",
            "1875/1875 [==============================] - 4s 2ms/step - loss: 0.1117 - sparse_categorical_accuracy: 0.9570\n",
            "Epoch 123/200\n",
            "1875/1875 [==============================] - 4s 2ms/step - loss: 0.1139 - sparse_categorical_accuracy: 0.9571\n",
            "Epoch 124/200\n",
            "1875/1875 [==============================] - 4s 2ms/step - loss: 0.1128 - sparse_categorical_accuracy: 0.9567\n",
            "Epoch 125/200\n",
            "1875/1875 [==============================] - 4s 2ms/step - loss: 0.1120 - sparse_categorical_accuracy: 0.9551\n",
            "Epoch 126/200\n",
            "1875/1875 [==============================] - 4s 2ms/step - loss: 0.1088 - sparse_categorical_accuracy: 0.9578\n",
            "Epoch 127/200\n",
            "1875/1875 [==============================] - 4s 2ms/step - loss: 0.1110 - sparse_categorical_accuracy: 0.9559\n",
            "Epoch 128/200\n",
            "1875/1875 [==============================] - 4s 2ms/step - loss: 0.1086 - sparse_categorical_accuracy: 0.9570\n",
            "Epoch 129/200\n",
            "1875/1875 [==============================] - 4s 2ms/step - loss: 0.1122 - sparse_categorical_accuracy: 0.9557\n",
            "Epoch 130/200\n",
            "1875/1875 [==============================] - 4s 2ms/step - loss: 0.1115 - sparse_categorical_accuracy: 0.9564\n",
            "Epoch 131/200\n",
            "1875/1875 [==============================] - 4s 2ms/step - loss: 0.1078 - sparse_categorical_accuracy: 0.9580\n",
            "Epoch 132/200\n",
            "1875/1875 [==============================] - 4s 2ms/step - loss: 0.1143 - sparse_categorical_accuracy: 0.9561\n",
            "Epoch 133/200\n",
            "1875/1875 [==============================] - 4s 2ms/step - loss: 0.1095 - sparse_categorical_accuracy: 0.9577\n",
            "Epoch 134/200\n",
            "1875/1875 [==============================] - 4s 2ms/step - loss: 0.1116 - sparse_categorical_accuracy: 0.9572\n",
            "Epoch 135/200\n",
            "1875/1875 [==============================] - 4s 2ms/step - loss: 0.1128 - sparse_categorical_accuracy: 0.9564\n",
            "Epoch 136/200\n",
            "1875/1875 [==============================] - 4s 2ms/step - loss: 0.1081 - sparse_categorical_accuracy: 0.9590\n",
            "Epoch 137/200\n",
            "1875/1875 [==============================] - 4s 2ms/step - loss: 0.1106 - sparse_categorical_accuracy: 0.9579\n",
            "Epoch 138/200\n",
            "1875/1875 [==============================] - 4s 2ms/step - loss: 0.1074 - sparse_categorical_accuracy: 0.9596\n",
            "Epoch 139/200\n",
            "1875/1875 [==============================] - 4s 2ms/step - loss: 0.1103 - sparse_categorical_accuracy: 0.9582\n",
            "Epoch 140/200\n",
            "1875/1875 [==============================] - 4s 2ms/step - loss: 0.1073 - sparse_categorical_accuracy: 0.9585\n",
            "Epoch 141/200\n",
            "1875/1875 [==============================] - 4s 2ms/step - loss: 0.1039 - sparse_categorical_accuracy: 0.9604\n",
            "Epoch 142/200\n",
            "1875/1875 [==============================] - 4s 2ms/step - loss: 0.1069 - sparse_categorical_accuracy: 0.9579\n",
            "Epoch 143/200\n",
            "1875/1875 [==============================] - 4s 2ms/step - loss: 0.1038 - sparse_categorical_accuracy: 0.9603\n",
            "Epoch 144/200\n",
            "1875/1875 [==============================] - 4s 2ms/step - loss: 0.1142 - sparse_categorical_accuracy: 0.9568\n",
            "Epoch 145/200\n",
            "1875/1875 [==============================] - 4s 2ms/step - loss: 0.1061 - sparse_categorical_accuracy: 0.9590\n",
            "Epoch 146/200\n",
            "1875/1875 [==============================] - 4s 2ms/step - loss: 0.1004 - sparse_categorical_accuracy: 0.9620\n",
            "Epoch 147/200\n",
            "1875/1875 [==============================] - 4s 2ms/step - loss: 0.1080 - sparse_categorical_accuracy: 0.9595\n",
            "Epoch 148/200\n",
            "1875/1875 [==============================] - 4s 2ms/step - loss: 0.1064 - sparse_categorical_accuracy: 0.9594\n",
            "Epoch 149/200\n",
            "1875/1875 [==============================] - 4s 2ms/step - loss: 0.1056 - sparse_categorical_accuracy: 0.9586\n",
            "Epoch 150/200\n",
            "1875/1875 [==============================] - 4s 2ms/step - loss: 0.0971 - sparse_categorical_accuracy: 0.9620\n",
            "Epoch 151/200\n",
            "1875/1875 [==============================] - 4s 2ms/step - loss: 0.1083 - sparse_categorical_accuracy: 0.9585\n",
            "Epoch 152/200\n",
            "1875/1875 [==============================] - 4s 2ms/step - loss: 0.1040 - sparse_categorical_accuracy: 0.9607\n",
            "Epoch 153/200\n",
            "1875/1875 [==============================] - 4s 2ms/step - loss: 0.1056 - sparse_categorical_accuracy: 0.9583\n",
            "Epoch 154/200\n",
            "1875/1875 [==============================] - 4s 2ms/step - loss: 0.1043 - sparse_categorical_accuracy: 0.9606\n",
            "Epoch 155/200\n",
            "1875/1875 [==============================] - 4s 2ms/step - loss: 0.1031 - sparse_categorical_accuracy: 0.9603\n",
            "Epoch 156/200\n",
            "1875/1875 [==============================] - 4s 2ms/step - loss: 0.1022 - sparse_categorical_accuracy: 0.9608\n",
            "Epoch 157/200\n",
            "1875/1875 [==============================] - 4s 2ms/step - loss: 0.0986 - sparse_categorical_accuracy: 0.9619\n",
            "Epoch 158/200\n",
            "1875/1875 [==============================] - 4s 2ms/step - loss: 0.1053 - sparse_categorical_accuracy: 0.9587\n",
            "Epoch 159/200\n",
            "1875/1875 [==============================] - 4s 2ms/step - loss: 0.1067 - sparse_categorical_accuracy: 0.9589\n",
            "Epoch 160/200\n",
            "1875/1875 [==============================] - 4s 2ms/step - loss: 0.0998 - sparse_categorical_accuracy: 0.9613\n",
            "Epoch 161/200\n",
            "1875/1875 [==============================] - 4s 2ms/step - loss: 0.0992 - sparse_categorical_accuracy: 0.9618\n",
            "Epoch 162/200\n",
            "1875/1875 [==============================] - 4s 2ms/step - loss: 0.0975 - sparse_categorical_accuracy: 0.9627\n",
            "Epoch 163/200\n",
            "1875/1875 [==============================] - 4s 2ms/step - loss: 0.1014 - sparse_categorical_accuracy: 0.9618\n",
            "Epoch 164/200\n",
            "1875/1875 [==============================] - 4s 2ms/step - loss: 0.1040 - sparse_categorical_accuracy: 0.9601\n",
            "Epoch 165/200\n",
            "1875/1875 [==============================] - 4s 2ms/step - loss: 0.1020 - sparse_categorical_accuracy: 0.9598\n",
            "Epoch 166/200\n",
            "1875/1875 [==============================] - 4s 2ms/step - loss: 0.0956 - sparse_categorical_accuracy: 0.9629\n",
            "Epoch 167/200\n",
            "1875/1875 [==============================] - 4s 2ms/step - loss: 0.1042 - sparse_categorical_accuracy: 0.9605\n",
            "Epoch 168/200\n",
            "1875/1875 [==============================] - 4s 2ms/step - loss: 0.0937 - sparse_categorical_accuracy: 0.9642\n",
            "Epoch 169/200\n",
            "1875/1875 [==============================] - 4s 2ms/step - loss: 0.0984 - sparse_categorical_accuracy: 0.9616\n",
            "Epoch 170/200\n",
            "1875/1875 [==============================] - 4s 2ms/step - loss: 0.0968 - sparse_categorical_accuracy: 0.9624\n",
            "Epoch 171/200\n",
            "1875/1875 [==============================] - 4s 2ms/step - loss: 0.1027 - sparse_categorical_accuracy: 0.9610\n",
            "Epoch 172/200\n",
            "1875/1875 [==============================] - 4s 2ms/step - loss: 0.0931 - sparse_categorical_accuracy: 0.9648\n",
            "Epoch 173/200\n",
            "1875/1875 [==============================] - 4s 2ms/step - loss: 0.0992 - sparse_categorical_accuracy: 0.9612\n",
            "Epoch 174/200\n",
            "1875/1875 [==============================] - 4s 2ms/step - loss: 0.0995 - sparse_categorical_accuracy: 0.9617\n",
            "Epoch 175/200\n",
            "1875/1875 [==============================] - 4s 2ms/step - loss: 0.1017 - sparse_categorical_accuracy: 0.9615\n",
            "Epoch 176/200\n",
            "1875/1875 [==============================] - 4s 2ms/step - loss: 0.0955 - sparse_categorical_accuracy: 0.9628\n",
            "Epoch 177/200\n",
            "1875/1875 [==============================] - 4s 2ms/step - loss: 0.0969 - sparse_categorical_accuracy: 0.9627\n",
            "Epoch 178/200\n",
            "1875/1875 [==============================] - 4s 2ms/step - loss: 0.0997 - sparse_categorical_accuracy: 0.9617\n",
            "Epoch 179/200\n",
            "1875/1875 [==============================] - 4s 2ms/step - loss: 0.1012 - sparse_categorical_accuracy: 0.9633\n",
            "Epoch 180/200\n",
            "1875/1875 [==============================] - 4s 2ms/step - loss: 0.0957 - sparse_categorical_accuracy: 0.9632\n",
            "Epoch 181/200\n",
            "1875/1875 [==============================] - 4s 2ms/step - loss: 0.0956 - sparse_categorical_accuracy: 0.9639\n",
            "Epoch 182/200\n",
            "1875/1875 [==============================] - 4s 2ms/step - loss: 0.0967 - sparse_categorical_accuracy: 0.9622\n",
            "Epoch 183/200\n",
            "1875/1875 [==============================] - 4s 2ms/step - loss: 0.0963 - sparse_categorical_accuracy: 0.9626\n",
            "Epoch 184/200\n",
            "1875/1875 [==============================] - 4s 2ms/step - loss: 0.0962 - sparse_categorical_accuracy: 0.9636\n",
            "Epoch 185/200\n",
            "1875/1875 [==============================] - 4s 2ms/step - loss: 0.0974 - sparse_categorical_accuracy: 0.9626\n",
            "Epoch 186/200\n",
            "1875/1875 [==============================] - 4s 2ms/step - loss: 0.0956 - sparse_categorical_accuracy: 0.9640\n",
            "Epoch 187/200\n",
            "1875/1875 [==============================] - 4s 2ms/step - loss: 0.0917 - sparse_categorical_accuracy: 0.9651\n",
            "Epoch 188/200\n",
            "1875/1875 [==============================] - 4s 2ms/step - loss: 0.0962 - sparse_categorical_accuracy: 0.9630\n",
            "Epoch 189/200\n",
            "1875/1875 [==============================] - 4s 2ms/step - loss: 0.0931 - sparse_categorical_accuracy: 0.9653\n",
            "Epoch 190/200\n",
            "1875/1875 [==============================] - 4s 2ms/step - loss: 0.0943 - sparse_categorical_accuracy: 0.9631\n",
            "Epoch 191/200\n",
            "1875/1875 [==============================] - 4s 2ms/step - loss: 0.0974 - sparse_categorical_accuracy: 0.9626\n",
            "Epoch 192/200\n",
            "1875/1875 [==============================] - 4s 2ms/step - loss: 0.0909 - sparse_categorical_accuracy: 0.9648\n",
            "Epoch 193/200\n",
            "1875/1875 [==============================] - 4s 2ms/step - loss: 0.0889 - sparse_categorical_accuracy: 0.9658\n",
            "Epoch 194/200\n",
            "1875/1875 [==============================] - 4s 2ms/step - loss: 0.0912 - sparse_categorical_accuracy: 0.9652\n",
            "Epoch 195/200\n",
            "1875/1875 [==============================] - 4s 2ms/step - loss: 0.0931 - sparse_categorical_accuracy: 0.9640\n",
            "Epoch 196/200\n",
            "1875/1875 [==============================] - 4s 2ms/step - loss: 0.0920 - sparse_categorical_accuracy: 0.9647\n",
            "Epoch 197/200\n",
            "1875/1875 [==============================] - 4s 2ms/step - loss: 0.0920 - sparse_categorical_accuracy: 0.9652\n",
            "Epoch 198/200\n",
            "1875/1875 [==============================] - 4s 2ms/step - loss: 0.0880 - sparse_categorical_accuracy: 0.9661\n",
            "Epoch 199/200\n",
            "1875/1875 [==============================] - 4s 2ms/step - loss: 0.0942 - sparse_categorical_accuracy: 0.9628\n",
            "Epoch 200/200\n",
            "1875/1875 [==============================] - 4s 2ms/step - loss: 0.0932 - sparse_categorical_accuracy: 0.9641\n"
          ],
          "name": "stdout"
        },
        {
          "output_type": "execute_result",
          "data": {
            "text/plain": [
              "<tensorflow.python.keras.callbacks.History at 0x7f7541141910>"
            ]
          },
          "metadata": {
            "tags": []
          },
          "execution_count": 116
        }
      ]
    },
    {
      "cell_type": "code",
      "metadata": {
        "colab": {
          "base_uri": "https://localhost:8080/"
        },
        "id": "VYxjTLAtfo_e",
        "outputId": "4f49516f-3c93-492f-a47b-5f2ea13d9309"
      },
      "source": [
        "test_loss , test_accuracy = model.evaluate(x_test , y_test )"
      ],
      "execution_count": 118,
      "outputs": [
        {
          "output_type": "stream",
          "text": [
            "313/313 [==============================] - 1s 2ms/step - loss: 0.7210 - sparse_categorical_accuracy: 0.8904\n"
          ],
          "name": "stdout"
        }
      ]
    },
    {
      "cell_type": "code",
      "metadata": {
        "id": "fV563GBk4-oO"
      },
      "source": [
        ""
      ],
      "execution_count": 116,
      "outputs": []
    }
  ]
}