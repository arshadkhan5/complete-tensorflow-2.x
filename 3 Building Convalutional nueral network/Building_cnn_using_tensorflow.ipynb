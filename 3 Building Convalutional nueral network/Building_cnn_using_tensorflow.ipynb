{
  "nbformat": 4,
  "nbformat_minor": 0,
  "metadata": {
    "colab": {
      "name": "Building_cnn_using_tensorflow.ipynb",
      "provenance": [],
      "collapsed_sections": []
    },
    "kernelspec": {
      "name": "python3",
      "display_name": "Python 3"
    },
    "accelerator": "GPU"
  },
  "cells": [
    {
      "cell_type": "markdown",
      "metadata": {
        "id": "H4nNJPMa2gWj"
      },
      "source": [
        "# <mark>**Importing the requried pakages**<mark>\r\n",
        "\r\n",
        "---\r\n",
        "\r\n",
        "\r\n",
        "\r\n",
        "\r\n",
        "\r\n"
      ]
    },
    {
      "cell_type": "code",
      "metadata": {
        "id": "Xjuh5hSS2K4Z"
      },
      "source": [
        "import tensorflow as tf\r\n",
        "import matplotlib.pyplot as plt\r\n",
        "\r\n",
        "from tensorflow.keras.datasets import cifar10\r\n",
        "from tensorflow.keras.layers import Conv2D ,Dense,Dropout,MaxPool2D ,Flatten\r\n",
        "from tensorflow.keras.optimizers import Adam\r\n",
        "\r\n",
        "%matplotlib inline"
      ],
      "execution_count": 1,
      "outputs": []
    },
    {
      "cell_type": "markdown",
      "metadata": {
        "id": "xwcp-qVZ2sep"
      },
      "source": [
        "# <mark>**Giving the Classes names**<mark>\r\n",
        "\r\n",
        "---\r\n",
        "\r\n"
      ]
    },
    {
      "cell_type": "code",
      "metadata": {
        "id": "L3P7ByZN2Y8F"
      },
      "source": [
        "className = ['airplane','automobile','bird','cat','deer','dog','frog','horse','ship','truck']"
      ],
      "execution_count": 2,
      "outputs": []
    },
    {
      "cell_type": "markdown",
      "metadata": {
        "id": "H5NHlI_22e_M"
      },
      "source": [
        "# <mark>Loading the Dataset<mark>"
      ]
    },
    {
      "cell_type": "code",
      "metadata": {
        "id": "Xlt4v6XX4icR",
        "colab": {
          "base_uri": "https://localhost:8080/"
        },
        "outputId": "30e76822-c759-4fba-b19f-a2f77c43753a"
      },
      "source": [
        "(x_train , y_train),(x_test , y_test) = cifar10.load_data()"
      ],
      "execution_count": 3,
      "outputs": [
        {
          "output_type": "stream",
          "text": [
            "Downloading data from https://www.cs.toronto.edu/~kriz/cifar-10-python.tar.gz\n",
            "170500096/170498071 [==============================] - 3s 0us/step\n"
          ],
          "name": "stdout"
        }
      ]
    },
    {
      "cell_type": "markdown",
      "metadata": {
        "id": "oqh36qOQ42CC"
      },
      "source": [
        "# <mark>**Normalization of the images**<mark> "
      ]
    },
    {
      "cell_type": "code",
      "metadata": {
        "id": "Vhf78Y3W4hIL"
      },
      "source": [
        "x_train = x_train /255.0\r\n",
        "x_test = x_test / 255.0"
      ],
      "execution_count": 4,
      "outputs": []
    },
    {
      "cell_type": "markdown",
      "metadata": {
        "id": "oR59IZdL5R0i"
      },
      "source": [
        "# <mark>Showing the Shape<mark>"
      ]
    },
    {
      "cell_type": "code",
      "metadata": {
        "colab": {
          "base_uri": "https://localhost:8080/"
        },
        "id": "Z5Rmz8cc5OJ1",
        "outputId": "d5d5d177-06a6-40a7-db41-7422dbe49376"
      },
      "source": [
        "x_train.shape"
      ],
      "execution_count": 5,
      "outputs": [
        {
          "output_type": "execute_result",
          "data": {
            "text/plain": [
              "(50000, 32, 32, 3)"
            ]
          },
          "metadata": {
            "tags": []
          },
          "execution_count": 5
        }
      ]
    },
    {
      "cell_type": "code",
      "metadata": {
        "colab": {
          "base_uri": "https://localhost:8080/"
        },
        "id": "gz9VAGoz5Zzq",
        "outputId": "547b3dc0-2c52-48d4-f288-6674fd96a272"
      },
      "source": [
        "x_test.shape "
      ],
      "execution_count": 6,
      "outputs": [
        {
          "output_type": "execute_result",
          "data": {
            "text/plain": [
              "(10000, 32, 32, 3)"
            ]
          },
          "metadata": {
            "tags": []
          },
          "execution_count": 6
        }
      ]
    },
    {
      "cell_type": "markdown",
      "metadata": {
        "id": "kqdpJteV5wTP"
      },
      "source": [
        "# <mark>Showing a picture from the dataset<mark>"
      ]
    },
    {
      "cell_type": "code",
      "metadata": {
        "colab": {
          "base_uri": "https://localhost:8080/",
          "height": 283
        },
        "id": "0UgZWX9Q5crr",
        "outputId": "08986da7-0cbe-4df2-979a-43a6fc663e0f"
      },
      "source": [
        "plt.imshow(x_test[4])"
      ],
      "execution_count": 7,
      "outputs": [
        {
          "output_type": "execute_result",
          "data": {
            "text/plain": [
              "<matplotlib.image.AxesImage at 0x7f1dd17503d0>"
            ]
          },
          "metadata": {
            "tags": []
          },
          "execution_count": 7
        },
        {
          "output_type": "display_data",
          "data": {
            "image/png": "[encoded data removed]",
            "text/plain": [
              "<Figure size 432x288 with 1 Axes>"
            ]
          },
          "metadata": {
            "tags": [],
            "needs_background": "light"
          }
        }
      ]
    },
    {
      "cell_type": "markdown",
      "metadata": {
        "id": "GFKDYtrH6Ccr"
      },
      "source": [
        ""
      ]
    },
    {
      "cell_type": "markdown",
      "metadata": {
        "id": "gFGIeNcSAtww"
      },
      "source": [
        "# <mark>Model defining<mark>"
      ]
    },
    {
      "cell_type": "code",
      "metadata": {
        "id": "PVVHA-7r6CDa"
      },
      "source": [
        "model = tf.keras.models.Sequential()"
      ],
      "execution_count": 8,
      "outputs": []
    },
    {
      "cell_type": "markdown",
      "metadata": {
        "id": "YFY-et0BBBMh"
      },
      "source": [
        "## <mark>***Adding the first cnn layer***<mark>"
      ]
    },
    {
      "cell_type": "markdown",
      "metadata": {
        "id": "Zl1lUCIPCBmh"
      },
      "source": [
        "### **<mark>Conv2D is the layer of keras  in which the weights are assigned to input and from which a feature map is generated<mark>**\r\n",
        "\r\n",
        "\r\n",
        "\r\n",
        "---\r\n",
        "\r\n",
        "\r\n"
      ]
    },
    {
      "cell_type": "markdown",
      "metadata": {
        "id": "-fYcn4HKEI35"
      },
      "source": [
        "\r\n",
        "\r\n",
        "* Filters are used to extract features from images \r\n",
        "in the process of convolution.\r\n",
        "\r\n",
        "---\r\n",
        "\r\n",
        "* kernal_size specifies the width and hieght of the Convultion\r\n",
        "\r\n",
        "---\r\n",
        "\r\n",
        "\r\n",
        "\r\n",
        "\r\n",
        "*   padding=\"same\" mean the size of input and output will be same\r\n",
        "\r\n",
        "---\r\n",
        "\r\n",
        "\r\n",
        "*  activation=\"relu\" Using Rectified linear unit as activation function\r\n",
        "\r\n",
        "---\r\n",
        "\r\n",
        "\r\n",
        "\r\n",
        "\r\n",
        "\r\n",
        "\r\n",
        "\r\n",
        "*   Input_shape specifies the shape of the input of the tensor\r\n",
        "\r\n",
        "\r\n",
        "\r\n",
        "\r\n",
        "\r\n",
        "\r\n"
      ]
    },
    {
      "cell_type": "code",
      "metadata": {
        "id": "IX626s5LAheD"
      },
      "source": [
        "model.add(tf.keras.layers.Conv2D(filters=32, kernel_size=3 , padding=\"same\" , activation=\"relu\" , input_shape=[32,32,3]))"
      ],
      "execution_count": 9,
      "outputs": []
    },
    {
      "cell_type": "markdown",
      "metadata": {
        "id": "kGxDRwENG2dJ"
      },
      "source": [
        "# <mark>**Adding the second  cnn layer**<mark>"
      ]
    },
    {
      "cell_type": "code",
      "metadata": {
        "id": "2CekwlFfBIZR"
      },
      "source": [
        "model.add(tf.keras.layers.Conv2D(filters=32 , kernel_size=3 , padding=\"same\" , activation=\"relu\"))"
      ],
      "execution_count": 10,
      "outputs": []
    },
    {
      "cell_type": "markdown",
      "metadata": {
        "id": "nbSfNAZBIl4A"
      },
      "source": [
        "## <mark>***Adding the maxpooling layer***<mark>"
      ]
    },
    {
      "cell_type": "markdown",
      "metadata": {
        "id": "2EzWtpiII0sg"
      },
      "source": [
        "Max pooling is a pooling operation that selects the maximum element from the region of the feature map covered by the filter. Thus, the output after max-pooling layer would be a feature map containing the most prominent features of the previous feature map.\r\n",
        "\r\n",
        "---\r\n",
        "\r\n",
        "---\r\n",
        "\r\n",
        "\r\n",
        "\r\n"
      ]
    },
    {
      "cell_type": "code",
      "metadata": {
        "id": "2nIl2w_Z581k"
      },
      "source": [
        "model.add(tf.keras.layers.MaxPool2D(pool_size=2 , strides=2 , padding=\"valid\"))"
      ],
      "execution_count": 11,
      "outputs": []
    },
    {
      "cell_type": "markdown",
      "metadata": {
        "id": "DvIz4c3RJiiI"
      },
      "source": [
        "# <mark>Adding the third cnn layer<mark>\r\n",
        "\r\n",
        "\r\n"
      ]
    },
    {
      "cell_type": "code",
      "metadata": {
        "id": "rSLTb3CPJZ4a"
      },
      "source": [
        "model.add(tf.keras.layers.Conv2D(filters=64 ,kernel_size=3 , padding =\"same\" , activation=\"relu\"))"
      ],
      "execution_count": 12,
      "outputs": []
    },
    {
      "cell_type": "markdown",
      "metadata": {
        "id": "Hu07h10xKpKg"
      },
      "source": [
        "# <mark>Adding the fourth cnn layer<mark>\r\n"
      ]
    },
    {
      "cell_type": "code",
      "metadata": {
        "id": "-YlGT8GBKABa"
      },
      "source": [
        "model.add(tf.keras.layers.Conv2D(filters=64 , kernel_size=3 , padding=\"same\", activation=\"relu\"))"
      ],
      "execution_count": 13,
      "outputs": []
    },
    {
      "cell_type": "markdown",
      "metadata": {
        "id": "Anwvi2F0Ld0P"
      },
      "source": [
        "## <mark>***Adding the maxpool***<mark> \r\n"
      ]
    },
    {
      "cell_type": "code",
      "metadata": {
        "id": "uq2v4ebGLcLB"
      },
      "source": [
        "model.add(tf.keras.layers.MaxPool2D(pool_size=2, strides=2, padding=\"valid\"))"
      ],
      "execution_count": 14,
      "outputs": []
    },
    {
      "cell_type": "markdown",
      "metadata": {
        "id": "xNdYbMACN0mI"
      },
      "source": [
        "## <mark>***Adding the Flatten layer***<mark> "
      ]
    },
    {
      "cell_type": "markdown",
      "metadata": {
        "id": "dgBJAI0dN6nE"
      },
      "source": [
        "\r\n",
        "Flatten is the function that converts the pooled feature map to a single column that is passed to the fully connected layer. Dense adds the fully connected layer to the neural network\r\n",
        "\r\n",
        "---\r\n",
        "\r\n",
        "---\r\n",
        "\r\n",
        "\r\n",
        "\r\n",
        "\r\n",
        "\r\n",
        "\r\n",
        "\r\n",
        "\r\n"
      ]
    },
    {
      "cell_type": "code",
      "metadata": {
        "id": "3MJPT3sCL6o5"
      },
      "source": [
        "model.add(tf.keras.layers.Flatten())"
      ],
      "execution_count": 15,
      "outputs": []
    },
    {
      "cell_type": "markdown",
      "metadata": {
        "id": "ZqxgfwnrOViv"
      },
      "source": [
        "#  <mark> Adding the Dense Layer <mark>"
      ]
    },
    {
      "cell_type": "markdown",
      "metadata": {
        "id": "PvetS8BkPet5"
      },
      "source": [
        "Each neuron in a layer receives an input from all the neurons present in the previous layer—thus, they're densely connected. In other words, the dense layer is a fully connected layer, meaning all the neurons in a layer are connected to those in the next layer.\r\n",
        "\r\n",
        "---\r\n",
        "\r\n",
        "---\r\n",
        "\r\n",
        "---\r\n",
        "units mean number of neuran\r\n",
        "\r\n",
        "\r\n",
        "\r\n",
        "\r\n",
        "\r\n"
      ]
    },
    {
      "cell_type": "code",
      "metadata": {
        "id": "3Cn0G1jGOTb4"
      },
      "source": [
        "model.add(tf.keras.layers.Dense(units=64, kernel_initializer='he_uniform',activation=\"relu\"))\r\n",
        "\r\n",
        "model.add(tf.keras.layers.Dense(units=128, kernel_initializer='he_uniform',activation=\"relu\"))\r\n",
        "\r\n"
      ],
      "execution_count": 16,
      "outputs": []
    },
    {
      "cell_type": "markdown",
      "metadata": {
        "id": "e42Bnp1yRwS2"
      },
      "source": [
        "#  <mark> Adding the Dense Layer <mark>"
      ]
    },
    {
      "cell_type": "code",
      "metadata": {
        "id": "cpENEuLlRunf"
      },
      "source": [
        "model.add(tf.keras.layers.Dense(units=10  ,kernel_initializer='glorot_uniform',activation=\"softmax\"))"
      ],
      "execution_count": 17,
      "outputs": []
    },
    {
      "cell_type": "code",
      "metadata": {
        "colab": {
          "base_uri": "https://localhost:8080/"
        },
        "id": "bXb8SK-mRgno",
        "outputId": "a9ff5911-fdbd-42c9-bfb8-083b0a9afdcd"
      },
      "source": [
        "model.summary()"
      ],
      "execution_count": 18,
      "outputs": [
        {
          "output_type": "stream",
          "text": [
            "Model: \"sequential\"\n",
            "_________________________________________________________________\n",
            "Layer (type)                 Output Shape              Param #   \n",
            "=================================================================\n",
            "conv2d (Conv2D)              (None, 32, 32, 32)        896       \n",
            "_________________________________________________________________\n",
            "conv2d_1 (Conv2D)            (None, 32, 32, 32)        9248      \n",
            "_________________________________________________________________\n",
            "max_pooling2d (MaxPooling2D) (None, 16, 16, 32)        0         \n",
            "_________________________________________________________________\n",
            "conv2d_2 (Conv2D)            (None, 16, 16, 64)        18496     \n",
            "_________________________________________________________________\n",
            "conv2d_3 (Conv2D)            (None, 16, 16, 64)        36928     \n",
            "_________________________________________________________________\n",
            "max_pooling2d_1 (MaxPooling2 (None, 8, 8, 64)          0         \n",
            "_________________________________________________________________\n",
            "flatten (Flatten)            (None, 4096)              0         \n",
            "_________________________________________________________________\n",
            "dense (Dense)                (None, 64)                262208    \n",
            "_________________________________________________________________\n",
            "dense_1 (Dense)              (None, 128)               8320      \n",
            "_________________________________________________________________\n",
            "dense_2 (Dense)              (None, 10)                1290      \n",
            "=================================================================\n",
            "Total params: 337,386\n",
            "Trainable params: 337,386\n",
            "Non-trainable params: 0\n",
            "_________________________________________________________________\n"
          ],
          "name": "stdout"
        }
      ]
    },
    {
      "cell_type": "markdown",
      "metadata": {
        "id": "cVQMK7xGj7Bl"
      },
      "source": [
        "# <mark>**Compililation of the model**<mark>"
      ]
    },
    {
      "cell_type": "code",
      "metadata": {
        "id": "AhpqNyBGSlCh"
      },
      "source": [
        "opt=tf.keras.optimizers.Adam(learning_rate=0.001)\r\n",
        "model.compile(loss= \"sparse_categorical_crossentropy\", optimizer=opt, metrics=[\"sparse_categorical_accuracy\"])"
      ],
      "execution_count": 19,
      "outputs": []
    },
    {
      "cell_type": "markdown",
      "metadata": {
        "id": "evwrCRlakIzU"
      },
      "source": [
        "# <mark>**Model fitting**<mark>"
      ]
    },
    {
      "cell_type": "code",
      "metadata": {
        "colab": {
          "base_uri": "https://localhost:8080/"
        },
        "id": "nanHElwLkJ2s",
        "outputId": "75f7de2c-3233-4c38-a72d-122218f6e6ad"
      },
      "source": [
        "model.fit(x_train,y_train , epochs=30)"
      ],
      "execution_count": 20,
      "outputs": [
        {
          "output_type": "stream",
          "text": [
            "Epoch 1/30\n",
            "1563/1563 [==============================] - 39s 4ms/step - loss: 1.6918 - sparse_categorical_accuracy: 0.3724\n",
            "Epoch 2/30\n",
            "1563/1563 [==============================] - 6s 4ms/step - loss: 0.9958 - sparse_categorical_accuracy: 0.6453\n",
            "Epoch 3/30\n",
            "1563/1563 [==============================] - 6s 4ms/step - loss: 0.7932 - sparse_categorical_accuracy: 0.7191\n",
            "Epoch 4/30\n",
            "1563/1563 [==============================] - 6s 4ms/step - loss: 0.6560 - sparse_categorical_accuracy: 0.7727\n",
            "Epoch 5/30\n",
            "1563/1563 [==============================] - 6s 4ms/step - loss: 0.5585 - sparse_categorical_accuracy: 0.8044\n",
            "Epoch 6/30\n",
            "1563/1563 [==============================] - 6s 4ms/step - loss: 0.4759 - sparse_categorical_accuracy: 0.8311\n",
            "Epoch 7/30\n",
            "1563/1563 [==============================] - 6s 4ms/step - loss: 0.4103 - sparse_categorical_accuracy: 0.8560\n",
            "Epoch 8/30\n",
            "1563/1563 [==============================] - 6s 4ms/step - loss: 0.3346 - sparse_categorical_accuracy: 0.8830\n",
            "Epoch 9/30\n",
            "1563/1563 [==============================] - 6s 4ms/step - loss: 0.2922 - sparse_categorical_accuracy: 0.8965\n",
            "Epoch 10/30\n",
            "1563/1563 [==============================] - 6s 4ms/step - loss: 0.2442 - sparse_categorical_accuracy: 0.9126\n",
            "Epoch 11/30\n",
            "1563/1563 [==============================] - 7s 4ms/step - loss: 0.2187 - sparse_categorical_accuracy: 0.9212\n",
            "Epoch 12/30\n",
            "1563/1563 [==============================] - 6s 4ms/step - loss: 0.1909 - sparse_categorical_accuracy: 0.9311\n",
            "Epoch 13/30\n",
            "1563/1563 [==============================] - 6s 4ms/step - loss: 0.1822 - sparse_categorical_accuracy: 0.9349\n",
            "Epoch 14/30\n",
            "1563/1563 [==============================] - 7s 4ms/step - loss: 0.1554 - sparse_categorical_accuracy: 0.9447\n",
            "Epoch 15/30\n",
            "1563/1563 [==============================] - 7s 4ms/step - loss: 0.1409 - sparse_categorical_accuracy: 0.9495\n",
            "Epoch 16/30\n",
            "1563/1563 [==============================] - 6s 4ms/step - loss: 0.1375 - sparse_categorical_accuracy: 0.9519\n",
            "Epoch 17/30\n",
            "1563/1563 [==============================] - 6s 4ms/step - loss: 0.1245 - sparse_categorical_accuracy: 0.9561\n",
            "Epoch 18/30\n",
            "1563/1563 [==============================] - 7s 4ms/step - loss: 0.1333 - sparse_categorical_accuracy: 0.9531\n",
            "Epoch 19/30\n",
            "1563/1563 [==============================] - 7s 4ms/step - loss: 0.1172 - sparse_categorical_accuracy: 0.9592\n",
            "Epoch 20/30\n",
            "1563/1563 [==============================] - 7s 4ms/step - loss: 0.1008 - sparse_categorical_accuracy: 0.9658\n",
            "Epoch 21/30\n",
            "1563/1563 [==============================] - 7s 4ms/step - loss: 0.1087 - sparse_categorical_accuracy: 0.9626\n",
            "Epoch 22/30\n",
            "1563/1563 [==============================] - 7s 4ms/step - loss: 0.0939 - sparse_categorical_accuracy: 0.9675\n",
            "Epoch 23/30\n",
            "1563/1563 [==============================] - 7s 4ms/step - loss: 0.0957 - sparse_categorical_accuracy: 0.9670\n",
            "Epoch 24/30\n",
            "1563/1563 [==============================] - 7s 4ms/step - loss: 0.1004 - sparse_categorical_accuracy: 0.9661\n",
            "Epoch 25/30\n",
            "1563/1563 [==============================] - 7s 4ms/step - loss: 0.0852 - sparse_categorical_accuracy: 0.9712\n",
            "Epoch 26/30\n",
            "1563/1563 [==============================] - 7s 4ms/step - loss: 0.0957 - sparse_categorical_accuracy: 0.9677\n",
            "Epoch 27/30\n",
            "1563/1563 [==============================] - 6s 4ms/step - loss: 0.0821 - sparse_categorical_accuracy: 0.9725\n",
            "Epoch 28/30\n",
            "1563/1563 [==============================] - 7s 4ms/step - loss: 0.0842 - sparse_categorical_accuracy: 0.9714\n",
            "Epoch 29/30\n",
            "1563/1563 [==============================] - 7s 4ms/step - loss: 0.0851 - sparse_categorical_accuracy: 0.9713\n",
            "Epoch 30/30\n",
            "1563/1563 [==============================] - 7s 4ms/step - loss: 0.0740 - sparse_categorical_accuracy: 0.9760\n"
          ],
          "name": "stdout"
        },
        {
          "output_type": "execute_result",
          "data": {
            "text/plain": [
              "<tensorflow.python.keras.callbacks.History at 0x7f1d481b6cd0>"
            ]
          },
          "metadata": {
            "tags": []
          },
          "execution_count": 20
        }
      ]
    },
    {
      "cell_type": "code",
      "metadata": {
        "colab": {
          "base_uri": "https://localhost:8080/"
        },
        "id": "zL0Z4YJ6jpxB",
        "outputId": "1ca19f42-3fe4-4a5b-80cd-6c7d2a7770ad"
      },
      "source": [
        "test_lose , test_accuracy = model.evaluate(x_test,y_test)"
      ],
      "execution_count": 21,
      "outputs": [
        {
          "output_type": "stream",
          "text": [
            "313/313 [==============================] - 1s 2ms/step - loss: 1.8751 - sparse_categorical_accuracy: 0.7189\n"
          ],
          "name": "stdout"
        }
      ]
    },
    {
      "cell_type": "markdown",
      "metadata": {
        "id": "1YF6YXx0L5tf"
      },
      "source": [
        "### <mark>**The accuracy for this dataset is good when its higher than 70**<mark>"
      ]
    },
    {
      "cell_type": "code",
      "metadata": {
        "id": "D4bcPg5gmMa3"
      },
      "source": [
        ""
      ],
      "execution_count": 21,
      "outputs": []
    }
  ]
}